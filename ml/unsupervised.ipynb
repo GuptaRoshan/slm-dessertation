{
 "cells": [
  {
   "cell_type": "code",
   "execution_count": 8,
   "id": "9e3eaa06",
   "metadata": {},
   "outputs": [
    {
     "name": "stderr",
     "output_type": "stream",
     "text": [
      "[nltk_data] Downloading package stopwords to\n",
      "[nltk_data]     C:\\Users\\I353174\\AppData\\Roaming\\nltk_data...\n",
      "[nltk_data]   Package stopwords is already up-to-date!\n",
      "[nltk_data] Downloading package wordnet to\n",
      "[nltk_data]     C:\\Users\\I353174\\AppData\\Roaming\\nltk_data...\n",
      "[nltk_data]   Package wordnet is already up-to-date!\n"
     ]
    }
   ],
   "source": [
    "import pandas as pd\n",
    "import numpy as np\n",
    "# library to clean data\n",
    "import re\n",
    "# Natural Language Tool Kit\n",
    "import nltk\n",
    "nltk.download('stopwords')\n",
    "nltk.download('wordnet')\n",
    "# to remove stopword\n",
    "from nltk.corpus import stopwords\n",
    "# for Stemming propose\n",
    "from nltk.stem.porter import PorterStemmer\n",
    "from nltk.stem import WordNetLemmatizer\n",
    "from textblob import TextBlob\n"
   ]
  },
  {
   "cell_type": "code",
   "execution_count": 2,
   "id": "87f47257",
   "metadata": {},
   "outputs": [
    {
     "data": {
      "text/html": [
       "<div>\n",
       "<style scoped>\n",
       "    .dataframe tbody tr th:only-of-type {\n",
       "        vertical-align: middle;\n",
       "    }\n",
       "\n",
       "    .dataframe tbody tr th {\n",
       "        vertical-align: top;\n",
       "    }\n",
       "\n",
       "    .dataframe thead th {\n",
       "        text-align: right;\n",
       "    }\n",
       "</style>\n",
       "<table border=\"1\" class=\"dataframe\">\n",
       "  <thead>\n",
       "    <tr style=\"text-align: right;\">\n",
       "      <th></th>\n",
       "      <th>email</th>\n",
       "      <th>name</th>\n",
       "      <th>title</th>\n",
       "      <th>label</th>\n",
       "      <th>content</th>\n",
       "    </tr>\n",
       "  </thead>\n",
       "  <tbody>\n",
       "    <tr>\n",
       "      <th>0</th>\n",
       "      <td>Info@1015multimedia.com</td>\n",
       "      <td>Rishikumar Thakur</td>\n",
       "      <td>NaN</td>\n",
       "      <td>warm</td>\n",
       "      <td>Hello,  I have had software in my warehouse fo...</td>\n",
       "    </tr>\n",
       "    <tr>\n",
       "      <th>1</th>\n",
       "      <td>info@142productions.com</td>\n",
       "      <td>Raza ji</td>\n",
       "      <td>NaN</td>\n",
       "      <td>warm</td>\n",
       "      <td>I have all sales firstclass versions from 2006...</td>\n",
       "    </tr>\n",
       "    <tr>\n",
       "      <th>2</th>\n",
       "      <td>info@223agency.com</td>\n",
       "      <td>Vaibhav Patel</td>\n",
       "      <td>NaN</td>\n",
       "      <td>hot</td>\n",
       "      <td>Hello, I have 3 questions about \"Sales firstcl...</td>\n",
       "    </tr>\n",
       "    <tr>\n",
       "      <th>3</th>\n",
       "      <td>scott@32digital.com</td>\n",
       "      <td>Amazon Customer</td>\n",
       "      <td>NaN</td>\n",
       "      <td>warm</td>\n",
       "      <td>On my specification sheet, the text modules ar...</td>\n",
       "    </tr>\n",
       "    <tr>\n",
       "      <th>4</th>\n",
       "      <td>cservice@4hatteras.com</td>\n",
       "      <td>Sudhakaran Wadakkancheri</td>\n",
       "      <td>NaN</td>\n",
       "      <td>cold</td>\n",
       "      <td>Since your update, strange bubbles have appear...</td>\n",
       "    </tr>\n",
       "  </tbody>\n",
       "</table>\n",
       "</div>"
      ],
      "text/plain": [
       "                     email                      name  title label  \\\n",
       "0  Info@1015multimedia.com         Rishikumar Thakur    NaN  warm   \n",
       "1  info@142productions.com                   Raza ji    NaN  warm   \n",
       "2       info@223agency.com             Vaibhav Patel    NaN   hot   \n",
       "3      scott@32digital.com           Amazon Customer    NaN  warm   \n",
       "4   cservice@4hatteras.com  Sudhakaran Wadakkancheri    NaN  cold   \n",
       "\n",
       "                                             content  \n",
       "0  Hello,  I have had software in my warehouse fo...  \n",
       "1  I have all sales firstclass versions from 2006...  \n",
       "2  Hello, I have 3 questions about \"Sales firstcl...  \n",
       "3  On my specification sheet, the text modules ar...  \n",
       "4  Since your update, strange bubbles have appear...  "
      ]
     },
     "execution_count": 2,
     "metadata": {},
     "output_type": "execute_result"
    }
   ],
   "source": [
    "df = pd.read_csv('salesleads.csv') \n",
    "df.head()"
   ]
  },
  {
   "cell_type": "code",
   "execution_count": 5,
   "id": "c9723cbc",
   "metadata": {},
   "outputs": [],
   "source": [
    "def process_docs(docs, rows) :\n",
    "    corpus = []\n",
    "    for i in range(0, rows):\n",
    "        # column : \"content\", row ith\n",
    "        content = re.sub('[^a-zA-Z]', ' ', docs[i])\n",
    "    \n",
    "        # convert all cases to lower cases\n",
    "        content = content.lower()\n",
    "     \n",
    "        # split to array(default delimiter is \" \")\n",
    "        content = content.split()\n",
    "    \n",
    "        # ps = PorterStemmer()\n",
    "        lem = WordNetLemmatizer()\n",
    "    \n",
    "        content = [lem.lemmatize(word) for word in content\n",
    "                if not word in set(stopwords.words('english'))]\n",
    "        \n",
    "        content = ' '.join(content) \n",
    "        corpus.append(content)\n",
    "        \n",
    "    return corpus  "
   ]
  },
  {
   "cell_type": "code",
   "execution_count": 6,
   "id": "1fdd0a92",
   "metadata": {},
   "outputs": [
    {
     "data": {
      "text/html": [
       "<div>\n",
       "<style scoped>\n",
       "    .dataframe tbody tr th:only-of-type {\n",
       "        vertical-align: middle;\n",
       "    }\n",
       "\n",
       "    .dataframe tbody tr th {\n",
       "        vertical-align: top;\n",
       "    }\n",
       "\n",
       "    .dataframe thead th {\n",
       "        text-align: right;\n",
       "    }\n",
       "</style>\n",
       "<table border=\"1\" class=\"dataframe\">\n",
       "  <thead>\n",
       "    <tr style=\"text-align: right;\">\n",
       "      <th></th>\n",
       "      <th>email</th>\n",
       "      <th>name</th>\n",
       "      <th>title</th>\n",
       "      <th>label</th>\n",
       "      <th>content</th>\n",
       "      <th>clean_text</th>\n",
       "    </tr>\n",
       "  </thead>\n",
       "  <tbody>\n",
       "    <tr>\n",
       "      <th>0</th>\n",
       "      <td>Info@1015multimedia.com</td>\n",
       "      <td>Rishikumar Thakur</td>\n",
       "      <td>NaN</td>\n",
       "      <td>warm</td>\n",
       "      <td>Hello,  I have had software in my warehouse fo...</td>\n",
       "      <td>hello software warehouse day export file optio...</td>\n",
       "    </tr>\n",
       "    <tr>\n",
       "      <th>1</th>\n",
       "      <td>info@142productions.com</td>\n",
       "      <td>Raza ji</td>\n",
       "      <td>NaN</td>\n",
       "      <td>warm</td>\n",
       "      <td>I have all sales firstclass versions from 2006...</td>\n",
       "      <td>sale firstclass version today saturday got ver...</td>\n",
       "    </tr>\n",
       "    <tr>\n",
       "      <th>2</th>\n",
       "      <td>info@223agency.com</td>\n",
       "      <td>Vaibhav Patel</td>\n",
       "      <td>NaN</td>\n",
       "      <td>hot</td>\n",
       "      <td>Hello, I have 3 questions about \"Sales firstcl...</td>\n",
       "      <td>hello question sale firstclass wh neo overview...</td>\n",
       "    </tr>\n",
       "    <tr>\n",
       "      <th>3</th>\n",
       "      <td>scott@32digital.com</td>\n",
       "      <td>Amazon Customer</td>\n",
       "      <td>NaN</td>\n",
       "      <td>warm</td>\n",
       "      <td>On my specification sheet, the text modules ar...</td>\n",
       "      <td>specification sheet text module displayed spee...</td>\n",
       "    </tr>\n",
       "    <tr>\n",
       "      <th>4</th>\n",
       "      <td>cservice@4hatteras.com</td>\n",
       "      <td>Sudhakaran Wadakkancheri</td>\n",
       "      <td>NaN</td>\n",
       "      <td>cold</td>\n",
       "      <td>Since your update, strange bubbles have appear...</td>\n",
       "      <td>since update strange bubble appeared sheet cle...</td>\n",
       "    </tr>\n",
       "  </tbody>\n",
       "</table>\n",
       "</div>"
      ],
      "text/plain": [
       "                     email                      name  title label  \\\n",
       "0  Info@1015multimedia.com         Rishikumar Thakur    NaN  warm   \n",
       "1  info@142productions.com                   Raza ji    NaN  warm   \n",
       "2       info@223agency.com             Vaibhav Patel    NaN   hot   \n",
       "3      scott@32digital.com           Amazon Customer    NaN  warm   \n",
       "4   cservice@4hatteras.com  Sudhakaran Wadakkancheri    NaN  cold   \n",
       "\n",
       "                                             content  \\\n",
       "0  Hello,  I have had software in my warehouse fo...   \n",
       "1  I have all sales firstclass versions from 2006...   \n",
       "2  Hello, I have 3 questions about \"Sales firstcl...   \n",
       "3  On my specification sheet, the text modules ar...   \n",
       "4  Since your update, strange bubbles have appear...   \n",
       "\n",
       "                                          clean_text  \n",
       "0  hello software warehouse day export file optio...  \n",
       "1  sale firstclass version today saturday got ver...  \n",
       "2  hello question sale firstclass wh neo overview...  \n",
       "3  specification sheet text module displayed spee...  \n",
       "4  since update strange bubble appeared sheet cle...  "
      ]
     },
     "execution_count": 6,
     "metadata": {},
     "output_type": "execute_result"
    }
   ],
   "source": [
    "corpus = process_docs(df['content'], df.shape[0])\n",
    "df['clean_text'] = corpus\n",
    "df.head()"
   ]
  },
  {
   "cell_type": "code",
   "execution_count": 28,
   "id": "6a01ac2b",
   "metadata": {},
   "outputs": [],
   "source": [
    "c = TextBlob('happy')"
   ]
  },
  {
   "cell_type": "code",
   "execution_count": 29,
   "id": "661636df",
   "metadata": {},
   "outputs": [],
   "source": [
    "ct = TextBlob(df['clean_text'][1])"
   ]
  },
  {
   "cell_type": "code",
   "execution_count": 30,
   "id": "11a51187",
   "metadata": {},
   "outputs": [
    {
     "data": {
      "text/plain": [
       "Sentiment(polarity=0.8, subjectivity=1.0)"
      ]
     },
     "execution_count": 30,
     "metadata": {},
     "output_type": "execute_result"
    }
   ],
   "source": [
    "c.sentiment"
   ]
  },
  {
   "cell_type": "code",
   "execution_count": 34,
   "id": "c9cbccfe",
   "metadata": {},
   "outputs": [
    {
     "name": "stdout",
     "output_type": "stream",
     "text": [
      "hot lead\n",
      "cold lead\n"
     ]
    }
   ],
   "source": [
    "ls = [\"happy\", \"sad\"]\n",
    "\n",
    "for i in ls :\n",
    "    c = TextBlob(i)\n",
    "    if c.sentiment[0] < 0:\n",
    "        print(\"cold lead\")\n",
    "        \n",
    "    if c.sentiment[0] > 0:\n",
    "        print(\"hot lead\")    \n",
    "    \n",
    "    if c.sentiment[0] == 0:\n",
    "        print(\"warm lead\")  \n"
   ]
  },
  {
   "cell_type": "code",
   "execution_count": null,
   "id": "bd9b8018",
   "metadata": {},
   "outputs": [],
   "source": []
  }
 ],
 "metadata": {
  "kernelspec": {
   "display_name": "Python 3 (ipykernel)",
   "language": "python",
   "name": "python3"
  },
  "language_info": {
   "codemirror_mode": {
    "name": "ipython",
    "version": 3
   },
   "file_extension": ".py",
   "mimetype": "text/x-python",
   "name": "python",
   "nbconvert_exporter": "python",
   "pygments_lexer": "ipython3",
   "version": "3.9.12"
  }
 },
 "nbformat": 4,
 "nbformat_minor": 5
}
