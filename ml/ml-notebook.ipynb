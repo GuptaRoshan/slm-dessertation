{
 "cells": [
  {
   "cell_type": "code",
   "execution_count": 56,
   "id": "a4dad8ea",
   "metadata": {},
   "outputs": [
    {
     "name": "stderr",
     "output_type": "stream",
     "text": [
      "[nltk_data] Downloading package stopwords to\n",
      "[nltk_data]     C:\\Users\\I353174\\AppData\\Roaming\\nltk_data...\n",
      "[nltk_data]   Package stopwords is already up-to-date!\n",
      "[nltk_data] Downloading package wordnet to\n",
      "[nltk_data]     C:\\Users\\I353174\\AppData\\Roaming\\nltk_data...\n",
      "[nltk_data]   Package wordnet is already up-to-date!\n"
     ]
    }
   ],
   "source": [
    "import pandas as pd\n",
    "import numpy as np\n",
    "# library to clean data\n",
    "import re\n",
    "# Natural Language Tool Kit\n",
    "import nltk\n",
    "nltk.download('stopwords')\n",
    "nltk.download('wordnet')\n",
    "# to remove stopword\n",
    "from nltk.corpus import stopwords\n",
    "# for Stemming propose\n",
    "from nltk.stem.porter import PorterStemmer\n",
    "from nltk.stem import WordNetLemmatizer\n",
    "import matplotlib.pyplot as plt\n",
    "from sklearn.preprocessing import LabelEncoder\n",
    "from sklearn.feature_extraction.text import TfidfVectorizer\n",
    "from sklearn.feature_extraction.text import CountVectorizer\n",
    "from sklearn.datasets import load_iris\n",
    "from sklearn.model_selection import train_test_split\n",
    "from sklearn.naive_bayes import GaussianNB\n",
    "from sklearn.naive_bayes import MultinomialNB\n",
    "from sklearn import metrics\n",
    "from joblib import dump, load"
   ]
  },
  {
   "cell_type": "code",
   "execution_count": 257,
   "id": "3dc8ab74",
   "metadata": {},
   "outputs": [
    {
     "data": {
      "text/html": [
       "<div>\n",
       "<style scoped>\n",
       "    .dataframe tbody tr th:only-of-type {\n",
       "        vertical-align: middle;\n",
       "    }\n",
       "\n",
       "    .dataframe tbody tr th {\n",
       "        vertical-align: top;\n",
       "    }\n",
       "\n",
       "    .dataframe thead th {\n",
       "        text-align: right;\n",
       "    }\n",
       "</style>\n",
       "<table border=\"1\" class=\"dataframe\">\n",
       "  <thead>\n",
       "    <tr style=\"text-align: right;\">\n",
       "      <th></th>\n",
       "      <th>email</th>\n",
       "      <th>name</th>\n",
       "      <th>title</th>\n",
       "      <th>label</th>\n",
       "      <th>content</th>\n",
       "    </tr>\n",
       "  </thead>\n",
       "  <tbody>\n",
       "    <tr>\n",
       "      <th>0</th>\n",
       "      <td>Info@1015multimedia.com</td>\n",
       "      <td>Rishikumar Thakur</td>\n",
       "      <td>NaN</td>\n",
       "      <td>warm</td>\n",
       "      <td>Hello,  I have had software in my warehouse for 2 days  under Export-File  Options an almost illegible font. How can I do this again  to change.</td>\n",
       "    </tr>\n",
       "    <tr>\n",
       "      <th>1</th>\n",
       "      <td>info@142productions.com</td>\n",
       "      <td>Raza ji</td>\n",
       "      <td>NaN</td>\n",
       "      <td>warm</td>\n",
       "      <td>I have all sales firstclass versions from 2006 until today. On Saturday  got  the version WAREHOUSE Sales firstclass 20 Neo, had to be installed after the installation  notice that the label of the buttons in the export screen  are not readable (e.g. file format, navigation, compression, font,  sort by  etc. design the complete labeling under file options, title page  and  Design buttons. After an uninstallation and a new  Installation has not shown in the export screen  changed.  Since I conduct warehouse training for company directors, a  Proper work not possible.</td>\n",
       "    </tr>\n",
       "    <tr>\n",
       "      <th>2</th>\n",
       "      <td>info@223agency.com</td>\n",
       "      <td>Vaibhav Patel</td>\n",
       "      <td>NaN</td>\n",
       "      <td>hot</td>\n",
       "      <td>Hello, I have 3 questions about \"Sales firstclass WH Neo\":  1. In the overview mode, I marked part of the process with the process marker (blue line with start and end markings). The export routine exports the entire process, including what is outside of the process marker. Is that a program error (in \"Sales firstclass 2008\" only the process part between the start and end pointer is correctly burned)?  2. In export mode, the font in the small preview window in the file menu is always identical to the font in the heading line from the submenu. How can I break this link, or is it a program error?  3. Are there complete instructions, possibly to download or order?  Kind regards. Miraculix</td>\n",
       "    </tr>\n",
       "    <tr>\n",
       "      <th>3</th>\n",
       "      <td>scott@32digital.com</td>\n",
       "      <td>Amazon Customer</td>\n",
       "      <td>NaN</td>\n",
       "      <td>warm</td>\n",
       "      <td>On my specification sheet, the text modules are only displayed as a speech bubble, I should have  had an online presentation of my specificationsheets today to win a sponsor. This  has now jumped off! Thanks for such a great technology, I'm pissed off!  I hope and expect that the specification sheet will be operational again immediately, which is a shame so far  I could rely on Warehouse halfway! I ask for an answer that won't come back  Takes 21 days!</td>\n",
       "    </tr>\n",
       "    <tr>\n",
       "      <th>4</th>\n",
       "      <td>cservice@4hatteras.com</td>\n",
       "      <td>Sudhakaran Wadakkancheri</td>\n",
       "      <td>NaN</td>\n",
       "      <td>cold</td>\n",
       "      <td>Since your update, strange bubbles have appeared on my sheet, but I haven't  have cleaned!</td>\n",
       "    </tr>\n",
       "  </tbody>\n",
       "</table>\n",
       "</div>"
      ],
      "text/plain": [
       "                     email                      name  title label  \\\n",
       "0  Info@1015multimedia.com         Rishikumar Thakur    NaN  warm   \n",
       "1  info@142productions.com                   Raza ji    NaN  warm   \n",
       "2       info@223agency.com             Vaibhav Patel    NaN   hot   \n",
       "3      scott@32digital.com           Amazon Customer    NaN  warm   \n",
       "4   cservice@4hatteras.com  Sudhakaran Wadakkancheri    NaN  cold   \n",
       "\n",
       "                                                                                                                                                                                                                                                                                                                                                                                                                                                                                                                                                                                                                                                                                                                   content  \n",
       "0                                                                                                                                                                                                                                                                                                                                                                                                                                                                                                                                                                        Hello,  I have had software in my warehouse for 2 days  under Export-File  Options an almost illegible font. How can I do this again  to change.   \n",
       "1                                                                                                                            I have all sales firstclass versions from 2006 until today. On Saturday  got  the version WAREHOUSE Sales firstclass 20 Neo, had to be installed after the installation  notice that the label of the buttons in the export screen  are not readable (e.g. file format, navigation, compression, font,  sort by  etc. design the complete labeling under file options, title page  and  Design buttons. After an uninstallation and a new  Installation has not shown in the export screen  changed.  Since I conduct warehouse training for company directors, a  Proper work not possible.   \n",
       "2  Hello, I have 3 questions about \"Sales firstclass WH Neo\":  1. In the overview mode, I marked part of the process with the process marker (blue line with start and end markings). The export routine exports the entire process, including what is outside of the process marker. Is that a program error (in \"Sales firstclass 2008\" only the process part between the start and end pointer is correctly burned)?  2. In export mode, the font in the small preview window in the file menu is always identical to the font in the heading line from the submenu. How can I break this link, or is it a program error?  3. Are there complete instructions, possibly to download or order?  Kind regards. Miraculix   \n",
       "3                                                                                                                                                                                                                                                On my specification sheet, the text modules are only displayed as a speech bubble, I should have  had an online presentation of my specificationsheets today to win a sponsor. This  has now jumped off! Thanks for such a great technology, I'm pissed off!  I hope and expect that the specification sheet will be operational again immediately, which is a shame so far  I could rely on Warehouse halfway! I ask for an answer that won't come back  Takes 21 days!   \n",
       "4                                                                                                                                                                                                                                                                                                                                                                                                                                                                                                                                                                                                                              Since your update, strange bubbles have appeared on my sheet, but I haven't  have cleaned!   "
      ]
     },
     "execution_count": 257,
     "metadata": {},
     "output_type": "execute_result"
    }
   ],
   "source": [
    "df = pd.read_csv('salesleads.csv') \n",
    "df.head()"
   ]
  },
  {
   "cell_type": "code",
   "execution_count": 258,
   "id": "f50c187f",
   "metadata": {},
   "outputs": [],
   "source": [
    "# To Count number of null values in column\n",
    "def count_null(*args):\n",
    "    for col in args:\n",
    "        column=df[col].isnull().sum(axis=0)\n",
    "    return column"
   ]
  },
  {
   "cell_type": "code",
   "execution_count": 259,
   "id": "7af1a0d1",
   "metadata": {},
   "outputs": [
    {
     "data": {
      "text/plain": [
       "email      260\n",
       "name       347\n",
       "title      627\n",
       "label        0\n",
       "content      0\n",
       "dtype: int64"
      ]
     },
     "execution_count": 259,
     "metadata": {},
     "output_type": "execute_result"
    }
   ],
   "source": [
    "count_null(list(df.columns[:]))"
   ]
  },
  {
   "cell_type": "code",
   "execution_count": 260,
   "id": "6e02bb77",
   "metadata": {},
   "outputs": [
    {
     "data": {
      "text/html": [
       "<div>\n",
       "<style scoped>\n",
       "    .dataframe tbody tr th:only-of-type {\n",
       "        vertical-align: middle;\n",
       "    }\n",
       "\n",
       "    .dataframe tbody tr th {\n",
       "        vertical-align: top;\n",
       "    }\n",
       "\n",
       "    .dataframe thead th {\n",
       "        text-align: right;\n",
       "    }\n",
       "</style>\n",
       "<table border=\"1\" class=\"dataframe\">\n",
       "  <thead>\n",
       "    <tr style=\"text-align: right;\">\n",
       "      <th></th>\n",
       "      <th>content</th>\n",
       "    </tr>\n",
       "  </thead>\n",
       "  <tbody>\n",
       "    <tr>\n",
       "      <th>0</th>\n",
       "      <td>Hello,  I have had software in my warehouse for 2 days  under Export-File  Options an almost illegible font. How can I do this again  to change.</td>\n",
       "    </tr>\n",
       "    <tr>\n",
       "      <th>1</th>\n",
       "      <td>I have all sales firstclass versions from 2006 until today. On Saturday  got  the version WAREHOUSE Sales firstclass 20 Neo, had to be installed after the installation  notice that the label of the buttons in the export screen  are not readable (e.g. file format, navigation, compression, font,  sort by  etc. design the complete labeling under file options, title page  and  Design buttons. After an uninstallation and a new  Installation has not shown in the export screen  changed.  Since I conduct warehouse training for company directors, a  Proper work not possible.</td>\n",
       "    </tr>\n",
       "    <tr>\n",
       "      <th>2</th>\n",
       "      <td>Hello, I have 3 questions about \"Sales firstclass WH Neo\":  1. In the overview mode, I marked part of the process with the process marker (blue line with start and end markings). The export routine exports the entire process, including what is outside of the process marker. Is that a program error (in \"Sales firstclass 2008\" only the process part between the start and end pointer is correctly burned)?  2. In export mode, the font in the small preview window in the file menu is always identical to the font in the heading line from the submenu. How can I break this link, or is it a program error?  3. Are there complete instructions, possibly to download or order?  Kind regards. Miraculix</td>\n",
       "    </tr>\n",
       "    <tr>\n",
       "      <th>3</th>\n",
       "      <td>On my specification sheet, the text modules are only displayed as a speech bubble, I should have  had an online presentation of my specificationsheets today to win a sponsor. This  has now jumped off! Thanks for such a great technology, I'm pissed off!  I hope and expect that the specification sheet will be operational again immediately, which is a shame so far  I could rely on Warehouse halfway! I ask for an answer that won't come back  Takes 21 days!</td>\n",
       "    </tr>\n",
       "    <tr>\n",
       "      <th>4</th>\n",
       "      <td>Since your update, strange bubbles have appeared on my sheet, but I haven't  have cleaned!</td>\n",
       "    </tr>\n",
       "  </tbody>\n",
       "</table>\n",
       "</div>"
      ],
      "text/plain": [
       "                                                                                                                                                                                                                                                                                                                                                                                                                                                                                                                                                                                                                                                                                                                   content\n",
       "0                                                                                                                                                                                                                                                                                                                                                                                                                                                                                                                                                                        Hello,  I have had software in my warehouse for 2 days  under Export-File  Options an almost illegible font. How can I do this again  to change. \n",
       "1                                                                                                                            I have all sales firstclass versions from 2006 until today. On Saturday  got  the version WAREHOUSE Sales firstclass 20 Neo, had to be installed after the installation  notice that the label of the buttons in the export screen  are not readable (e.g. file format, navigation, compression, font,  sort by  etc. design the complete labeling under file options, title page  and  Design buttons. After an uninstallation and a new  Installation has not shown in the export screen  changed.  Since I conduct warehouse training for company directors, a  Proper work not possible. \n",
       "2  Hello, I have 3 questions about \"Sales firstclass WH Neo\":  1. In the overview mode, I marked part of the process with the process marker (blue line with start and end markings). The export routine exports the entire process, including what is outside of the process marker. Is that a program error (in \"Sales firstclass 2008\" only the process part between the start and end pointer is correctly burned)?  2. In export mode, the font in the small preview window in the file menu is always identical to the font in the heading line from the submenu. How can I break this link, or is it a program error?  3. Are there complete instructions, possibly to download or order?  Kind regards. Miraculix \n",
       "3                                                                                                                                                                                                                                                On my specification sheet, the text modules are only displayed as a speech bubble, I should have  had an online presentation of my specificationsheets today to win a sponsor. This  has now jumped off! Thanks for such a great technology, I'm pissed off!  I hope and expect that the specification sheet will be operational again immediately, which is a shame so far  I could rely on Warehouse halfway! I ask for an answer that won't come back  Takes 21 days! \n",
       "4                                                                                                                                                                                                                                                                                                                                                                                                                                                                                                                                                                                                                              Since your update, strange bubbles have appeared on my sheet, but I haven't  have cleaned! "
      ]
     },
     "execution_count": 260,
     "metadata": {},
     "output_type": "execute_result"
    }
   ],
   "source": [
    "pd.set_option('display.max_colwidth', None) \n",
    "df[['content']].head(5)"
   ]
  },
  {
   "cell_type": "code",
   "execution_count": 261,
   "id": "87a7ec40",
   "metadata": {},
   "outputs": [],
   "source": [
    "def process_docs(docs, rows) :\n",
    "    corpus = []\n",
    "    for i in range(0, rows):\n",
    "        # column : \"content\", row ith\n",
    "        content = re.sub('[^a-zA-Z]', ' ', docs[i])\n",
    "    \n",
    "        # convert all cases to lower cases\n",
    "        content = content.lower()\n",
    "     \n",
    "        # split to array(default delimiter is \" \")\n",
    "        content = content.split()\n",
    "    \n",
    "        # ps = PorterStemmer()\n",
    "        lem = WordNetLemmatizer()\n",
    "    \n",
    "        content = [lem.lemmatize(word) for word in content\n",
    "                if not word in set(stopwords.words('english'))]\n",
    "        \n",
    "        content = ' '.join(content) \n",
    "        corpus.append(content)\n",
    "        \n",
    "    return corpus  "
   ]
  },
  {
   "cell_type": "code",
   "execution_count": 262,
   "id": "e192711a",
   "metadata": {},
   "outputs": [
    {
     "data": {
      "text/html": [
       "<div>\n",
       "<style scoped>\n",
       "    .dataframe tbody tr th:only-of-type {\n",
       "        vertical-align: middle;\n",
       "    }\n",
       "\n",
       "    .dataframe tbody tr th {\n",
       "        vertical-align: top;\n",
       "    }\n",
       "\n",
       "    .dataframe thead th {\n",
       "        text-align: right;\n",
       "    }\n",
       "</style>\n",
       "<table border=\"1\" class=\"dataframe\">\n",
       "  <thead>\n",
       "    <tr style=\"text-align: right;\">\n",
       "      <th></th>\n",
       "      <th>email</th>\n",
       "      <th>name</th>\n",
       "      <th>title</th>\n",
       "      <th>label</th>\n",
       "      <th>content</th>\n",
       "      <th>clean_text</th>\n",
       "    </tr>\n",
       "  </thead>\n",
       "  <tbody>\n",
       "    <tr>\n",
       "      <th>0</th>\n",
       "      <td>Info@1015multimedia.com</td>\n",
       "      <td>Rishikumar Thakur</td>\n",
       "      <td>NaN</td>\n",
       "      <td>2</td>\n",
       "      <td>Hello,  I have had software in my warehouse for 2 days  under Export-File  Options an almost illegible font. How can I do this again  to change.</td>\n",
       "      <td>hello software warehouse day export file option almost illegible font change</td>\n",
       "    </tr>\n",
       "    <tr>\n",
       "      <th>1</th>\n",
       "      <td>info@142productions.com</td>\n",
       "      <td>Raza ji</td>\n",
       "      <td>NaN</td>\n",
       "      <td>2</td>\n",
       "      <td>I have all sales firstclass versions from 2006 until today. On Saturday  got  the version WAREHOUSE Sales firstclass 20 Neo, had to be installed after the installation  notice that the label of the buttons in the export screen  are not readable (e.g. file format, navigation, compression, font,  sort by  etc. design the complete labeling under file options, title page  and  Design buttons. After an uninstallation and a new  Installation has not shown in the export screen  changed.  Since I conduct warehouse training for company directors, a  Proper work not possible.</td>\n",
       "      <td>sale firstclass version today saturday got version warehouse sale firstclass neo installed installation notice label button export screen readable e g file format navigation compression font sort etc design complete labeling file option title page design button uninstallation new installation shown export screen changed since conduct warehouse training company director proper work possible</td>\n",
       "    </tr>\n",
       "    <tr>\n",
       "      <th>2</th>\n",
       "      <td>info@223agency.com</td>\n",
       "      <td>Vaibhav Patel</td>\n",
       "      <td>NaN</td>\n",
       "      <td>1</td>\n",
       "      <td>Hello, I have 3 questions about \"Sales firstclass WH Neo\":  1. In the overview mode, I marked part of the process with the process marker (blue line with start and end markings). The export routine exports the entire process, including what is outside of the process marker. Is that a program error (in \"Sales firstclass 2008\" only the process part between the start and end pointer is correctly burned)?  2. In export mode, the font in the small preview window in the file menu is always identical to the font in the heading line from the submenu. How can I break this link, or is it a program error?  3. Are there complete instructions, possibly to download or order?  Kind regards. Miraculix</td>\n",
       "      <td>hello question sale firstclass wh neo overview mode marked part process process marker blue line start end marking export routine export entire process including outside process marker program error sale firstclass process part start end pointer correctly burned export mode font small preview window file menu always identical font heading line submenu break link program error complete instruction possibly download order kind regard miraculix</td>\n",
       "    </tr>\n",
       "    <tr>\n",
       "      <th>3</th>\n",
       "      <td>scott@32digital.com</td>\n",
       "      <td>Amazon Customer</td>\n",
       "      <td>NaN</td>\n",
       "      <td>2</td>\n",
       "      <td>On my specification sheet, the text modules are only displayed as a speech bubble, I should have  had an online presentation of my specificationsheets today to win a sponsor. This  has now jumped off! Thanks for such a great technology, I'm pissed off!  I hope and expect that the specification sheet will be operational again immediately, which is a shame so far  I could rely on Warehouse halfway! I ask for an answer that won't come back  Takes 21 days!</td>\n",
       "      <td>specification sheet text module displayed speech bubble online presentation specificationsheets today win sponsor jumped thanks great technology pissed hope expect specification sheet operational immediately shame far could rely warehouse halfway ask answer come back take day</td>\n",
       "    </tr>\n",
       "    <tr>\n",
       "      <th>4</th>\n",
       "      <td>cservice@4hatteras.com</td>\n",
       "      <td>Sudhakaran Wadakkancheri</td>\n",
       "      <td>NaN</td>\n",
       "      <td>0</td>\n",
       "      <td>Since your update, strange bubbles have appeared on my sheet, but I haven't  have cleaned!</td>\n",
       "      <td>since update strange bubble appeared sheet cleaned</td>\n",
       "    </tr>\n",
       "  </tbody>\n",
       "</table>\n",
       "</div>"
      ],
      "text/plain": [
       "                     email                      name  title  label  \\\n",
       "0  Info@1015multimedia.com         Rishikumar Thakur    NaN      2   \n",
       "1  info@142productions.com                   Raza ji    NaN      2   \n",
       "2       info@223agency.com             Vaibhav Patel    NaN      1   \n",
       "3      scott@32digital.com           Amazon Customer    NaN      2   \n",
       "4   cservice@4hatteras.com  Sudhakaran Wadakkancheri    NaN      0   \n",
       "\n",
       "                                                                                                                                                                                                                                                                                                                                                                                                                                                                                                                                                                                                                                                                                                                   content  \\\n",
       "0                                                                                                                                                                                                                                                                                                                                                                                                                                                                                                                                                                        Hello,  I have had software in my warehouse for 2 days  under Export-File  Options an almost illegible font. How can I do this again  to change.    \n",
       "1                                                                                                                            I have all sales firstclass versions from 2006 until today. On Saturday  got  the version WAREHOUSE Sales firstclass 20 Neo, had to be installed after the installation  notice that the label of the buttons in the export screen  are not readable (e.g. file format, navigation, compression, font,  sort by  etc. design the complete labeling under file options, title page  and  Design buttons. After an uninstallation and a new  Installation has not shown in the export screen  changed.  Since I conduct warehouse training for company directors, a  Proper work not possible.    \n",
       "2  Hello, I have 3 questions about \"Sales firstclass WH Neo\":  1. In the overview mode, I marked part of the process with the process marker (blue line with start and end markings). The export routine exports the entire process, including what is outside of the process marker. Is that a program error (in \"Sales firstclass 2008\" only the process part between the start and end pointer is correctly burned)?  2. In export mode, the font in the small preview window in the file menu is always identical to the font in the heading line from the submenu. How can I break this link, or is it a program error?  3. Are there complete instructions, possibly to download or order?  Kind regards. Miraculix    \n",
       "3                                                                                                                                                                                                                                                On my specification sheet, the text modules are only displayed as a speech bubble, I should have  had an online presentation of my specificationsheets today to win a sponsor. This  has now jumped off! Thanks for such a great technology, I'm pissed off!  I hope and expect that the specification sheet will be operational again immediately, which is a shame so far  I could rely on Warehouse halfway! I ask for an answer that won't come back  Takes 21 days!    \n",
       "4                                                                                                                                                                                                                                                                                                                                                                                                                                                                                                                                                                                                                              Since your update, strange bubbles have appeared on my sheet, but I haven't  have cleaned!    \n",
       "\n",
       "                                                                                                                                                                                                                                                                                                                                                                                                                                                      clean_text  \n",
       "0                                                                                                                                                                                                                                                                                                                                                                                   hello software warehouse day export file option almost illegible font change  \n",
       "1                                                       sale firstclass version today saturday got version warehouse sale firstclass neo installed installation notice label button export screen readable e g file format navigation compression font sort etc design complete labeling file option title page design button uninstallation new installation shown export screen changed since conduct warehouse training company director proper work possible  \n",
       "2  hello question sale firstclass wh neo overview mode marked part process process marker blue line start end marking export routine export entire process including outside process marker program error sale firstclass process part start end pointer correctly burned export mode font small preview window file menu always identical font heading line submenu break link program error complete instruction possibly download order kind regard miraculix  \n",
       "3                                                                                                                                                                           specification sheet text module displayed speech bubble online presentation specificationsheets today win sponsor jumped thanks great technology pissed hope expect specification sheet operational immediately shame far could rely warehouse halfway ask answer come back take day  \n",
       "4                                                                                                                                                                                                                                                                                                                                                                                                             since update strange bubble appeared sheet cleaned  "
      ]
     },
     "execution_count": 262,
     "metadata": {},
     "output_type": "execute_result"
    }
   ],
   "source": [
    "corpus = process_docs(df['content'], df.shape[0])\n",
    "df['clean_text'] = corpus\n",
    "le = LabelEncoder()\n",
    "df.label = le.fit_transform(df.label)\n",
    "df.head()"
   ]
  },
  {
   "cell_type": "code",
   "execution_count": 263,
   "id": "cb60afd4",
   "metadata": {},
   "outputs": [
    {
     "data": {
      "text/plain": [
       "0    243\n",
       "1    234\n",
       "2    150\n",
       "Name: label, dtype: int64"
      ]
     },
     "execution_count": 263,
     "metadata": {},
     "output_type": "execute_result"
    }
   ],
   "source": [
    "y = df[\"label\"]\n",
    "y.value_counts()"
   ]
  },
  {
   "cell_type": "code",
   "execution_count": 278,
   "id": "a5dd4cdf",
   "metadata": {},
   "outputs": [],
   "source": [
    "features = 3000\n",
    "vectorizer = None\n",
    "\n",
    "def transform_text(transformer, corpus): \n",
    "    global vectorizer\n",
    "    if transformer == \"countVectorizer\":\n",
    "        vectorizer = CountVectorizer(max_features=features)\n",
    "        vectorizer.fit(corpus)  \n",
    "        vector = vectorizer.transform(corpus)\n",
    "        X = vector.toarray()\n",
    "        \n",
    "    if transformer == \"Tfidf\":\n",
    "        vectorizer = TfidfVectorizer(max_features=features)\n",
    "        vectorizer.fit(corpus)  \n",
    "        vector = vectorizer.transform(corpus)\n",
    "        X = vector.toarray()\n",
    "        \n",
    "    dump(vectorizer, \"vectorizer.pkl\")\n",
    "    return X    "
   ]
  },
  {
   "cell_type": "code",
   "execution_count": 279,
   "id": "52d263a3",
   "metadata": {},
   "outputs": [
    {
     "name": "stdout",
     "output_type": "stream",
     "text": [
      "shape of X: (627, 3000)\n",
      "shape of y: (627,)\n"
     ]
    }
   ],
   "source": [
    "X = transform_text(\"Tfidf\", corpus)\n",
    "print('shape of X:', X.shape)\n",
    "print('shape of y:', y.shape)"
   ]
  },
  {
   "cell_type": "code",
   "execution_count": 288,
   "id": "db6f667b",
   "metadata": {},
   "outputs": [],
   "source": [
    "from sklearn.pipeline import make_pipeline\n",
    "from sklearn.preprocessing import StandardScaler\n",
    "from sklearn.svm import SVC\n",
    "from sklearn.ensemble import RandomForestClassifier\n",
    "from sklearn.datasets import make_classification\n",
    "\n",
    "\n",
    "def train_model(model_name):\n",
    "    X_train, X_test, y_train, y_test = train_test_split(X, y, test_size=0.3, random_state=0)\n",
    "    print(\"Shape of X_train:\", X_train.shape)\n",
    "    print(\"Shape of X_test:\", X_test.shape)\n",
    "    if model_name == \"MultinomialNB\":\n",
    "        ml_model = MultinomialNB()\n",
    "        ml_model.fit(X_train, y_train)\n",
    "        y_pred = ml_model.predict(X_test)\n",
    "        print(\"Accuracy of MultinomialNB:\", metrics.accuracy_score(y_test, y_pred))  \n",
    "        \n",
    "    if model_name == \"GaussianNB\":\n",
    "        ml_model = GaussianNB()\n",
    "        ml_model.fit(X_train, y_train)\n",
    "        y_pred = ml_model.predict(X_test)\n",
    "        print(\"Accuracy of GaussianNB:\", metrics.accuracy_score(y_test, y_pred))\n",
    "        \n",
    "    if model_name == \"SVC\":\n",
    "        ml_model = make_pipeline(StandardScaler(), SVC(gamma='auto'))\n",
    "        ml_model.fit(X_train, y_train)\n",
    "        y_pred = ml_model.predict(X_test)\n",
    "        print(\"Accuracy of SVC:\", metrics.accuracy_score(y_test, y_pred)) \n",
    "        \n",
    "    if model_name == \"RandomForestClassifier\":\n",
    "        params = {'bootstrap': True, 'max_depth': 90, 'max_features': 3, 'min_samples_leaf': 4, 'min_samples_split': 12, 'n_estimators': 100}\n",
    "        ml_model = RandomForestClassifier(**params)\n",
    "        ml_model.fit(X_train, y_train)\n",
    "        y_pred = ml_model.predict(X_test)\n",
    "        print(\"Accuracy of RandomForestClassifier:\", metrics.accuracy_score(y_test, y_pred))     \n",
    "        \n",
    "    dump(ml_model, \"model.pkl\")    \n",
    "    return ml_model "
   ]
  },
  {
   "cell_type": "code",
   "execution_count": 294,
   "id": "48324810",
   "metadata": {},
   "outputs": [
    {
     "name": "stdout",
     "output_type": "stream",
     "text": [
      "Shape of X_train: (438, 3000)\n",
      "Shape of X_test: (189, 3000)\n",
      "Accuracy of RandomForestClassifier: 0.36507936507936506\n"
     ]
    }
   ],
   "source": [
    "ml_model = train_model(\"RandomForestClassifier\")"
   ]
  },
  {
   "cell_type": "code",
   "execution_count": 290,
   "id": "a177e9df",
   "metadata": {},
   "outputs": [],
   "source": [
    "vectorizer = load('vectorizer.pkl') \n",
    "model = load('model.pkl') "
   ]
  },
  {
   "cell_type": "code",
   "execution_count": null,
   "id": "7eacb554",
   "metadata": {},
   "outputs": [],
   "source": []
  }
 ],
 "metadata": {
  "kernelspec": {
   "display_name": "Python 3 (ipykernel)",
   "language": "python",
   "name": "python3"
  },
  "language_info": {
   "codemirror_mode": {
    "name": "ipython",
    "version": 3
   },
   "file_extension": ".py",
   "mimetype": "text/x-python",
   "name": "python",
   "nbconvert_exporter": "python",
   "pygments_lexer": "ipython3",
   "version": "3.9.12"
  }
 },
 "nbformat": 4,
 "nbformat_minor": 5
}
